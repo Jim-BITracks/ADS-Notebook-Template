{
    "metadata": {
        "kernelspec": {
            "name": "SQL",
            "display_name": "SQL",
            "language": "sql"
        },
        "language_info": {
            "name": "sql",
            "version": ""
        }
    },
    "nbformat_minor": 2,
    "nbformat": 4,
    "cells": [
        {
            "cell_type": "markdown",
            "source": [
                "# SQL Notebook Example\r\n",
                "## List of Tables and Views in Current Database\r\n",
                ""
            ],
            "metadata": {
                "azdata_cell_guid": "d737a79e-73c7-4f13-bc41-6272e392ca90"
            }
        },
        {
            "cell_type": "code",
            "source": [
                "SELECT * FROM INFORMATION_SCHEMA.TABLES\r\n",
                ""
            ],
            "metadata": {
                "azdata_cell_guid": "b01313b1-1cfa-4ce1-a578-86908ebfe422",
                "tags": [
                    "hide_input"
                ]
            },
            "outputs": [
                {
                    "output_type": "display_data",
                    "data": {
                        "text/html": "(6 rows affected)"
                    },
                    "metadata": {}
                },
                {
                    "output_type": "display_data",
                    "data": {
                        "text/html": "Total execution time: 00:00:00.011"
                    },
                    "metadata": {}
                },
                {
                    "output_type": "execute_result",
                    "execution_count": 4,
                    "data": {
                        "application/vnd.dataresource+json": {
                            "schema": {
                                "fields": [
                                    {
                                        "name": "TABLE_CATALOG"
                                    },
                                    {
                                        "name": "TABLE_SCHEMA"
                                    },
                                    {
                                        "name": "TABLE_NAME"
                                    },
                                    {
                                        "name": "TABLE_TYPE"
                                    }
                                ]
                            },
                            "data": [
                                {
                                    "0": "master",
                                    "1": "dbo",
                                    "2": "spt_fallback_db",
                                    "3": "BASE TABLE"
                                },
                                {
                                    "0": "master",
                                    "1": "dbo",
                                    "2": "spt_fallback_dev",
                                    "3": "BASE TABLE"
                                },
                                {
                                    "0": "master",
                                    "1": "dbo",
                                    "2": "spt_fallback_usg",
                                    "3": "BASE TABLE"
                                },
                                {
                                    "0": "master",
                                    "1": "dbo",
                                    "2": "spt_values",
                                    "3": "VIEW"
                                },
                                {
                                    "0": "master",
                                    "1": "dbo",
                                    "2": "spt_monitor",
                                    "3": "BASE TABLE"
                                },
                                {
                                    "0": "master",
                                    "1": "dbo",
                                    "2": "MSreplication_options",
                                    "3": "BASE TABLE"
                                }
                            ]
                        },
                        "text/html": "<table><tr><th>TABLE_CATALOG</th><th>TABLE_SCHEMA</th><th>TABLE_NAME</th><th>TABLE_TYPE</th></tr><tr><td>master</td><td>dbo</td><td>spt_fallback_db</td><td>BASE TABLE</td></tr><tr><td>master</td><td>dbo</td><td>spt_fallback_dev</td><td>BASE TABLE</td></tr><tr><td>master</td><td>dbo</td><td>spt_fallback_usg</td><td>BASE TABLE</td></tr><tr><td>master</td><td>dbo</td><td>spt_values</td><td>VIEW</td></tr><tr><td>master</td><td>dbo</td><td>spt_monitor</td><td>BASE TABLE</td></tr><tr><td>master</td><td>dbo</td><td>MSreplication_options</td><td>BASE TABLE</td></tr></table>"
                    },
                    "metadata": {}
                }
            ],
            "execution_count": 4
        }
    ]
}